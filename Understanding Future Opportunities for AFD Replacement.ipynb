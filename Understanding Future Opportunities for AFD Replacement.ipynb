{
 "cells": [
  {
   "cell_type": "markdown",
   "metadata": {},
   "source": [
    "**Hunton Services is a franchise office of Trane. As such, certain sales quotas for product groups are handed down each year by Trane and are used to determine success of the franchise office. Among these products are Adaptive Frequency Drives (AFDs). Hunton Services wants to determine what the potential replacement value of AFDs is over the next few years. I used our contract equipment base to do this analysis and was able to produce clear results to answer the question.**"
   ]
  },
  {
   "cell_type": "code",
   "execution_count": 1,
   "metadata": {},
   "outputs": [],
   "source": [
    "# import libraries\n",
    "\n",
    "import pandas as pd\n",
    "import numpy as np\n",
    "import matplotlib.pyplot as plt"
   ]
  },
  {
   "cell_type": "code",
   "execution_count": 3,
   "metadata": {},
   "outputs": [
    {
     "data": {
      "text/html": [
       "<div>\n",
       "<style scoped>\n",
       "    .dataframe tbody tr th:only-of-type {\n",
       "        vertical-align: middle;\n",
       "    }\n",
       "\n",
       "    .dataframe tbody tr th {\n",
       "        vertical-align: top;\n",
       "    }\n",
       "\n",
       "    .dataframe thead th {\n",
       "        text-align: right;\n",
       "    }\n",
       "</style>\n",
       "<table border=\"1\" class=\"dataframe\">\n",
       "  <thead>\n",
       "    <tr style=\"text-align: right;\">\n",
       "      <th></th>\n",
       "      <th>Manuf Yr</th>\n",
       "      <th>Age</th>\n",
       "      <th>Model Number</th>\n",
       "      <th>Model Type</th>\n",
       "      <th>R'Newal</th>\n",
       "      <th>Starter</th>\n",
       "      <th>Display</th>\n",
       "    </tr>\n",
       "  </thead>\n",
       "  <tbody>\n",
       "    <tr>\n",
       "      <th>0</th>\n",
       "      <td>2018</td>\n",
       "      <td>3</td>\n",
       "      <td>CVHF035GA5E0PF0274537E5KBC0000000BA0G070L00000...</td>\n",
       "      <td>CVHF</td>\n",
       "      <td>Future</td>\n",
       "      <td>AFD Unit Mount</td>\n",
       "      <td>UC800</td>\n",
       "    </tr>\n",
       "    <tr>\n",
       "      <th>1</th>\n",
       "      <td>2018</td>\n",
       "      <td>3</td>\n",
       "      <td>CVHF035GA5E0PF0274537E5KBC0000000BA0G070L00000...</td>\n",
       "      <td>CVHF</td>\n",
       "      <td>Future</td>\n",
       "      <td>AFD Unit Mount</td>\n",
       "      <td>UC800</td>\n",
       "    </tr>\n",
       "    <tr>\n",
       "      <th>2</th>\n",
       "      <td>2017</td>\n",
       "      <td>4</td>\n",
       "      <td>RTHDUD1FXP0UAG2W4RAHG2D2RALAXXQAEXABAXV276B5UT...</td>\n",
       "      <td>RTHD</td>\n",
       "      <td>Future</td>\n",
       "      <td>Premium AFD</td>\n",
       "      <td>UC800</td>\n",
       "    </tr>\n",
       "    <tr>\n",
       "      <th>3</th>\n",
       "      <td>2017</td>\n",
       "      <td>4</td>\n",
       "      <td>RTHDUD1FXP0UAG2W4RAHG2D2RALAXXQAEXABAXV276B5UT...</td>\n",
       "      <td>RTHD</td>\n",
       "      <td>Future</td>\n",
       "      <td>Premium AFD</td>\n",
       "      <td>UC800</td>\n",
       "    </tr>\n",
       "    <tr>\n",
       "      <th>4</th>\n",
       "      <td>2017</td>\n",
       "      <td>4</td>\n",
       "      <td>RTHDUD1FXP0UAG2W4LAHG2D2LALAXXQAEXABAXV276B5UT...</td>\n",
       "      <td>RTHD</td>\n",
       "      <td>Future</td>\n",
       "      <td>Premium AFD</td>\n",
       "      <td>UC800</td>\n",
       "    </tr>\n",
       "  </tbody>\n",
       "</table>\n",
       "</div>"
      ],
      "text/plain": [
       "   Manuf Yr  Age                                       Model Number  \\\n",
       "0      2018    3  CVHF035GA5E0PF0274537E5KBC0000000BA0G070L00000...   \n",
       "1      2018    3  CVHF035GA5E0PF0274537E5KBC0000000BA0G070L00000...   \n",
       "2      2017    4  RTHDUD1FXP0UAG2W4RAHG2D2RALAXXQAEXABAXV276B5UT...   \n",
       "3      2017    4  RTHDUD1FXP0UAG2W4RAHG2D2RALAXXQAEXABAXV276B5UT...   \n",
       "4      2017    4  RTHDUD1FXP0UAG2W4LAHG2D2LALAXXQAEXABAXV276B5UT...   \n",
       "\n",
       "  Model Type R'Newal         Starter Display  \n",
       "0       CVHF  Future  AFD Unit Mount   UC800  \n",
       "1       CVHF  Future  AFD Unit Mount   UC800  \n",
       "2       RTHD  Future     Premium AFD   UC800  \n",
       "3       RTHD  Future     Premium AFD   UC800  \n",
       "4       RTHD  Future     Premium AFD   UC800  "
      ]
     },
     "execution_count": 3,
     "metadata": {},
     "output_type": "execute_result"
    }
   ],
   "source": [
    "# bring data into a df and drop columns that may identify customers, salespeople, etc.\n",
    "\n",
    "dfAFD = pd.read_excel(path,sheet_name=\"AFD Chillers\")\n",
    "dfAFD.drop([\"Wennsoft Serial Number\",\"Manufacturer ID\",\"Equipment Type\",\"Tag\",\"Customer\",\"Location\",\"WS Contract Number\",\n",
    "            \"Contract Experation Date\",\"Street\",\"City\",\"State\",\"Zip\",\"Salesperson\"],\n",
    "           axis=1,inplace=True)\n",
    "dfAFD.head()"
   ]
  },
  {
   "cell_type": "markdown",
   "metadata": {},
   "source": [
    "This dataframe now shows only the information we need to determine future opportunities for replacement. The best opportunity for replacement for AFDs is in and around the year the unit is 10yrs old. From here, I'll determine when each unit was/will be 10yrs old."
   ]
  },
  {
   "cell_type": "code",
   "execution_count": 4,
   "metadata": {},
   "outputs": [],
   "source": [
    "# add column with yr AFD will be/was 10 (manuf yr + 10)\n",
    "\n",
    "dfAFD[\"Age 10 Yr\"] = dfAFD[\"Manuf Yr\"] + 10"
   ]
  },
  {
   "cell_type": "code",
   "execution_count": 5,
   "metadata": {
    "scrolled": false
   },
   "outputs": [
    {
     "data": {
      "text/html": [
       "<div>\n",
       "<style scoped>\n",
       "    .dataframe tbody tr th:only-of-type {\n",
       "        vertical-align: middle;\n",
       "    }\n",
       "\n",
       "    .dataframe tbody tr th {\n",
       "        vertical-align: top;\n",
       "    }\n",
       "\n",
       "    .dataframe thead th {\n",
       "        text-align: right;\n",
       "    }\n",
       "</style>\n",
       "<table border=\"1\" class=\"dataframe\">\n",
       "  <thead>\n",
       "    <tr style=\"text-align: right;\">\n",
       "      <th></th>\n",
       "      <th>Age 10 Yr</th>\n",
       "      <th>Units</th>\n",
       "    </tr>\n",
       "  </thead>\n",
       "  <tbody>\n",
       "    <tr>\n",
       "      <th>0</th>\n",
       "      <td>2012</td>\n",
       "      <td>4</td>\n",
       "    </tr>\n",
       "    <tr>\n",
       "      <th>1</th>\n",
       "      <td>2013</td>\n",
       "      <td>1</td>\n",
       "    </tr>\n",
       "    <tr>\n",
       "      <th>2</th>\n",
       "      <td>2014</td>\n",
       "      <td>3</td>\n",
       "    </tr>\n",
       "    <tr>\n",
       "      <th>3</th>\n",
       "      <td>2015</td>\n",
       "      <td>3</td>\n",
       "    </tr>\n",
       "    <tr>\n",
       "      <th>4</th>\n",
       "      <td>2017</td>\n",
       "      <td>2</td>\n",
       "    </tr>\n",
       "    <tr>\n",
       "      <th>5</th>\n",
       "      <td>2018</td>\n",
       "      <td>3</td>\n",
       "    </tr>\n",
       "    <tr>\n",
       "      <th>6</th>\n",
       "      <td>2019</td>\n",
       "      <td>2</td>\n",
       "    </tr>\n",
       "    <tr>\n",
       "      <th>7</th>\n",
       "      <td>2020</td>\n",
       "      <td>1</td>\n",
       "    </tr>\n",
       "    <tr>\n",
       "      <th>8</th>\n",
       "      <td>2021</td>\n",
       "      <td>3</td>\n",
       "    </tr>\n",
       "    <tr>\n",
       "      <th>9</th>\n",
       "      <td>2022</td>\n",
       "      <td>4</td>\n",
       "    </tr>\n",
       "    <tr>\n",
       "      <th>10</th>\n",
       "      <td>2023</td>\n",
       "      <td>1</td>\n",
       "    </tr>\n",
       "    <tr>\n",
       "      <th>11</th>\n",
       "      <td>2024</td>\n",
       "      <td>8</td>\n",
       "    </tr>\n",
       "    <tr>\n",
       "      <th>12</th>\n",
       "      <td>2025</td>\n",
       "      <td>12</td>\n",
       "    </tr>\n",
       "    <tr>\n",
       "      <th>13</th>\n",
       "      <td>2026</td>\n",
       "      <td>10</td>\n",
       "    </tr>\n",
       "    <tr>\n",
       "      <th>14</th>\n",
       "      <td>2027</td>\n",
       "      <td>12</td>\n",
       "    </tr>\n",
       "    <tr>\n",
       "      <th>15</th>\n",
       "      <td>2028</td>\n",
       "      <td>4</td>\n",
       "    </tr>\n",
       "    <tr>\n",
       "      <th>16</th>\n",
       "      <td>2029</td>\n",
       "      <td>8</td>\n",
       "    </tr>\n",
       "    <tr>\n",
       "      <th>17</th>\n",
       "      <td>2030</td>\n",
       "      <td>4</td>\n",
       "    </tr>\n",
       "  </tbody>\n",
       "</table>\n",
       "</div>"
      ],
      "text/plain": [
       "    Age 10 Yr  Units\n",
       "0        2012      4\n",
       "1        2013      1\n",
       "2        2014      3\n",
       "3        2015      3\n",
       "4        2017      2\n",
       "5        2018      3\n",
       "6        2019      2\n",
       "7        2020      1\n",
       "8        2021      3\n",
       "9        2022      4\n",
       "10       2023      1\n",
       "11       2024      8\n",
       "12       2025     12\n",
       "13       2026     10\n",
       "14       2027     12\n",
       "15       2028      4\n",
       "16       2029      8\n",
       "17       2030      4"
      ]
     },
     "execution_count": 5,
     "metadata": {},
     "output_type": "execute_result"
    }
   ],
   "source": [
    "# slim df and groupby by age 10 yr\n",
    "\n",
    "dfGrouped = dfAFD[[\"Age 10 Yr\",\"Manuf Yr\"]]\n",
    "dfGrouped = dfGrouped.groupby(\"Age 10 Yr\").count()\n",
    "dfGrouped.rename(columns={\"Manuf Yr\":\"Units\"},inplace=True)\n",
    "dfGrouped.reset_index(inplace=True)\n",
    "dfGrouped"
   ]
  },
  {
   "cell_type": "markdown",
   "metadata": {},
   "source": [
    "This information is great. We can easily see how many opportunities we'll have in the coming years. To help non-technical users better understand the data, I'll create a basic visualization to show this info."
   ]
  },
  {
   "cell_type": "code",
   "execution_count": 6,
   "metadata": {},
   "outputs": [
    {
     "data": {
      "image/png": "[encoded data removed]",
      "text/plain": [
       "<Figure size 1080x540 with 1 Axes>"
      ]
     },
     "metadata": {
      "needs_background": "light"
     },
     "output_type": "display_data"
    }
   ],
   "source": [
    "# visualize by age 10 year\n",
    "\n",
    "plt.figure(figsize=(15,7.5))\n",
    "plt.style.use(\"ggplot\")\n",
    "\n",
    "plt.bar(\"Age 10 Yr\",height=\"Units\",data=dfGrouped,color=\"#009570\")\n",
    "plt.xticks(dfGrouped[\"Age 10 Yr\"].values)\n",
    "plt.xlim(2011,2031)\n",
    "plt.title(\"Contract AFD Replacement Opportunity by Age 10 Year\")\n",
    "plt.xlabel(\"Age 10 Year\",fontsize=12)\n",
    "plt.ylabel(\"10yr Old Units\",fontsize=12)\n",
    "for x, y in zip(dfGrouped[\"Age 10 Yr\"],dfGrouped[\"Units\"]):\n",
    "    plt.text(x=x,y=y+.1,s=f\"{y} unit(s)\",size=\"small\",ha=\"center\")\n",
    "\n",
    "plt.show()"
   ]
  },
  {
   "cell_type": "markdown",
   "metadata": {},
   "source": [
    "**Conclusion: We have a good number of AFDs under contract and the majority are fairly new. Some that are older than 10yrs today have either been replaced or we're in talks to do so. The focus moving forward should be on getting more equipment with older AFDs under contract. This will help us \"speed up time,\" so to speak, and get some replacements before the big years of 2024-2027. Long-term, we'll have more and more of these opportunities as AFDs are becoming increasingly common on new equipment from the factory.**\n",
    "\n",
    "**This notebook was created with actual equipment data and is currently helping our sales and operations teams prioritize which customers/equipment they focus on when looking to expand our customer base.**"
   ]
  }
 ],
 "metadata": {
  "kernelspec": {
   "display_name": "Python 3",
   "language": "python",
   "name": "python3"
  },
  "language_info": {
   "codemirror_mode": {
    "name": "ipython",
    "version": 3
   },
   "file_extension": ".py",
   "mimetype": "text/x-python",
   "name": "python",
   "nbconvert_exporter": "python",
   "pygments_lexer": "ipython3",
   "version": "3.8.5"
  }
 },
 "nbformat": 4,
 "nbformat_minor": 4
}
